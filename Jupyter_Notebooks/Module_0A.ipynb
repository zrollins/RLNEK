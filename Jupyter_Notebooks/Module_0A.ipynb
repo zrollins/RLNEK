{
 "cells": [
  {
   "cell_type": "markdown",
   "id": "9c6053bb",
   "metadata": {},
   "source": [
    "# Convert flow rate to applied force for given experimental system"
   ]
  },
  {
   "cell_type": "markdown",
   "id": "054d1f38",
   "metadata": {},
   "source": [
    "## Experimental system parameters of the flow chamber"
   ]
  },
  {
   "cell_type": "code",
   "execution_count": 3,
   "id": "5f38c59a",
   "metadata": {},
   "outputs": [
    {
     "name": "stdout",
     "output_type": "stream",
     "text": [
      "Enter fluid viscosity (dyne-s/cm²): 6.92\n",
      "Enter cell/sphere radius (μm): 7.85\n",
      "Enter critical distance (μm): 0.05\n",
      "Enter receptor-ligand bond length (nm): 36\n",
      "Enter flow chamber height (μm): 75\n",
      "Enter flow chamber width (μm): 800\n"
     ]
    }
   ],
   "source": [
    "import numpy as np\n",
    "\n",
    "# %%parameters with unit conversions\n",
    "## INPUT the experimental system parameters\n",
    "parameters = []\n",
    "mu = float(input('Enter fluid viscosity (dyne-s/cm\\u00b2): ')) * 1e-13\n",
    "a = float(input('Enter cell/sphere radius (\\u03BCm): ')) * 1e6\n",
    "d = float(input('Enter critical distance (\\u03BCm): ')) * 1e6\n",
    "L = float(input('Enter receptor-ligand bond length (nm): ')) * 1e3\n",
    "b = float(input('Enter flow chamber height (\\u03BCm): ')) * 1e6\n",
    "b /= 2\n",
    "w = float(input('Enter flow chamber width (\\u03BCm): ')) * 1e6\n",
    "parameters.append([mu, a, b, L, w, d])\n",
    "\n"
   ]
  },
  {
   "cell_type": "markdown",
   "id": "5d0933cc",
   "metadata": {},
   "source": [
    "## Convert volumetric flow rates (uL/hr) to applied force (pN)"
   ]
  },
  {
   "cell_type": "code",
   "execution_count": 4,
   "id": "ef2b1629",
   "metadata": {},
   "outputs": [
    {
     "name": "stdout",
     "output_type": "stream",
     "text": [
      "Enter flow rates (μL/hr), separated by commas and without new lines: 5, 10, 20\n",
      "\n",
      "For Q = 5.000000 (μL/hr), force = 36211.474215 pN\n",
      "For Q = 10.000000 (μL/hr), force = 72422.948431 pN\n",
      "For Q = 20.000000 (μL/hr), force = 144845.896862 pN\n"
     ]
    }
   ],
   "source": [
    "Q = input('Enter flow rates (\\u03BCL/hr), separated by commas and without new lines: ')\n",
    "Q_str = [val.strip() for val in Q.split(',')]\n",
    "\n",
    "Q_arr = np.zeros(len(Q_str))\n",
    "for i in range(len(Q_str)):\n",
    "    # Q_arr[i] = float(Q_str[i])  \n",
    "    \n",
    "    # convert from microliter/h to pm^3/s\n",
    "    Q_arr[i] = float(Q_str[i]) * (10**27) / 3600 \n",
    "\n",
    "Q_arr_nc = np.zeros(len(Q_str))\n",
    "for i in range(len(Q_str)):\n",
    "    Q_arr_nc[i] = float(Q_str[i])\n",
    "    \n",
    "# tether force\n",
    "forces = Q_arr * np.sqrt(a/(2*L)) * (1.7005*9*np.pi*mu*a**2 + 0.9440*6*np.pi*mu*a**2) / (w*b**2)\n",
    "\n",
    "print('')\n",
    "for i in range(len(Q_arr_nc)):\n",
    "    print('For Q = %f (\\u03BCL/hr), force = %f pN' % (Q_arr_nc[i], forces[i]))"
   ]
  },
  {
   "cell_type": "code",
   "execution_count": null,
   "id": "f129b0d4",
   "metadata": {},
   "outputs": [],
   "source": []
  }
 ],
 "metadata": {
  "kernelspec": {
   "display_name": "Python 3",
   "language": "python",
   "name": "python3"
  },
  "language_info": {
   "codemirror_mode": {
    "name": "ipython",
    "version": 3
   },
   "file_extension": ".py",
   "mimetype": "text/x-python",
   "name": "python",
   "nbconvert_exporter": "python",
   "pygments_lexer": "ipython3",
   "version": "3.7.12"
  }
 },
 "nbformat": 4,
 "nbformat_minor": 5
}
